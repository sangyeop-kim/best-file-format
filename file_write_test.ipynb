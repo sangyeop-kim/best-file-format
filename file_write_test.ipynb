{
 "cells": [
  {
   "cell_type": "code",
   "execution_count": 1,
   "metadata": {},
   "outputs": [],
   "source": [
    "import pandas as pd\n",
    "import itertools as it\n",
    "from time import time"
   ]
  },
  {
   "cell_type": "code",
   "execution_count": 2,
   "metadata": {},
   "outputs": [],
   "source": [
    "df = pd.read_feather('./phm_data_challenge_2018_sample/sample_data.ftr')"
   ]
  },
  {
   "cell_type": "code",
   "execution_count": null,
   "metadata": {},
   "outputs": [],
   "source": [
    "def measure_write_time(filename, start):\n",
    "    time_length = time() - start\n",
    "    print(filename, '%.4f' % time_length)\n",
    "    with open('record_write.txt', 'a') as f:\n",
    "        f.write('%s : %.4f sec' % (filename, time_length) + '\\n')\n",
    "    "
   ]
  },
  {
   "cell_type": "code",
   "execution_count": null,
   "metadata": {},
   "outputs": [],
   "source": [
    "def write_file(df, extension, hyperparameter = None) :\n",
    "    '''\n",
    "    pd.to_csv, compression : {'infer', 'gzip', 'bz2', 'zip', 'xz', None}, default 'infer'\n",
    "    pd.to_json, orient : {'split', 'records', 'index', 'columns', 'values', 'table'}, \n",
    "                        default 'columns' \n",
    "                compression{'infer', 'gzip', 'bz2', 'zip', 'xz', None}, default 'infer'\n",
    "    pd.to_excel, None \n",
    "    pd.to_hdf, complib : {'zlib', 'lzo', 'bzip2', 'blosc'}, default 'zlib', \n",
    "                    format : {'fixed', 'table', None}, default 'fixed',\n",
    "    pd.to_feather, None\n",
    "    pd.to_parquet, compression{'snappy', 'gzip', 'brotli', None}, default 'snappy'\n",
    "    pd.to_stata, None\n",
    "    pd.to_pickle, compression{'infer', 'gzip', 'bz2', 'zip', 'xz', None}, default 'infer'\n",
    "    '''\n",
    "    \n",
    "    if hyperparameter is not None:\n",
    "        if type(hyperparameter) == str:\n",
    "            filename = hyperparameter\n",
    "        else:\n",
    "            not_none_hyperparameter = [i for i in hyperparameter if i is not None]\n",
    "            filename = '_'.join(not_none_hyperparameter)\n",
    "        \n",
    "        filename = 'test_%s.%s' % (filename,extension)\n",
    "    else:\n",
    "        filename = 'test.%s' % (extension)\n",
    "\n",
    "        \n",
    "    if extension == 'h5':\n",
    "        start = time()\n",
    "        df.to_hdf(filename,'key', format = hyperparameter[0], complib = hyperparameter[1])\n",
    "        measure_write_time(filename, start)\n",
    "        \n",
    "    elif extension == 'xlsx':\n",
    "        start = time()\n",
    "        df.to_excel(filename)\n",
    "        measure_write_time(filename, start)\n",
    "        \n",
    "    elif extension == 'csv':\n",
    "        start = time()\n",
    "        df.to_csv(filename, compression = hyperparameter)\n",
    "        measure_write_time(filename, start)\n",
    "        \n",
    "    elif extension == 'json':\n",
    "        start = time()\n",
    "        df.to_json(filename, orient=hyperparameter[0], compression=hyperparameter[1])\n",
    "        measure_write_time(filename, start)\n",
    "        \n",
    "    elif extension == 'ftr':\n",
    "        start = time()\n",
    "        df.to_feather(filename)\n",
    "        measure_write_time(filename, start)\n",
    "        \n",
    "    elif extension == 'parquet':\n",
    "        start = time()\n",
    "        df.to_parquet(filename, compression = hyperparameter)\n",
    "        measure_write_time(filename, start)\n",
    "        \n",
    "    elif extension == 'dta':\n",
    "        start = time()\n",
    "        df.to_stata(filename)\n",
    "        measure_write_time(filename, start)\n",
    "        \n",
    "    elif extension == 'pkl':\n",
    "        start = time()\n",
    "        df.to_pickle(filename, compression = hyperparameter)\n",
    "        measure_write_time(filename, start)"
   ]
  },
  {
   "cell_type": "code",
   "execution_count": null,
   "metadata": {},
   "outputs": [],
   "source": [
    "json={'orient' : ['split', 'records', 'index', 'columns', 'values', 'table'], \n",
    "      'compression' : ['infer', 'gzip', 'bz2', 'zip', 'xz', None]}\n",
    "h5 = {'format' : ['fixed', 'table', None], 'complib' : ['zlib', 'lzo', 'bzip2', 'blosc']}\n",
    "\n",
    "json = list(it.product(*(json[Name] for Name in json.keys())))\n",
    "csv = ['infer', 'gzip', 'bz2', 'zip', 'xz', None]\n",
    "h5 = list(it.product(*(h5[Name] for Name in h5.keys())))\n",
    "parquet = ['snappy', 'gzip', 'brotli', None]\n",
    "pkl = ['infer', 'gzip', 'bz2', 'zip', 'xz', None]"
   ]
  },
  {
   "cell_type": "code",
   "execution_count": null,
   "metadata": {},
   "outputs": [],
   "source": [
    "write_file(df, 'ftr', None)"
   ]
  },
  {
   "cell_type": "code",
   "execution_count": null,
   "metadata": {},
   "outputs": [],
   "source": [
    "for i in pkl:\n",
    "    write_file(df, 'pkl', i)"
   ]
  },
  {
   "cell_type": "code",
   "execution_count": null,
   "metadata": {},
   "outputs": [],
   "source": [
    "write_file(df, 'dta', None)"
   ]
  },
  {
   "cell_type": "code",
   "execution_count": null,
   "metadata": {},
   "outputs": [],
   "source": [
    "for i in parquet:\n",
    "    write_file(df, 'parquet', i)"
   ]
  },
  {
   "cell_type": "code",
   "execution_count": null,
   "metadata": {},
   "outputs": [],
   "source": [
    "for i in json:\n",
    "    write_file(df, 'json', i)"
   ]
  },
  {
   "cell_type": "code",
   "execution_count": null,
   "metadata": {},
   "outputs": [],
   "source": [
    "for i in csv:\n",
    "    write_file(df, 'csv', i)"
   ]
  },
  {
   "cell_type": "code",
   "execution_count": null,
   "metadata": {},
   "outputs": [],
   "source": [
    "for i in h5:\n",
    "    write_file(df, 'h5', i)"
   ]
  },
  {
   "cell_type": "code",
   "execution_count": null,
   "metadata": {},
   "outputs": [],
   "source": [
    "write_file(df, 'xlsx', None)"
   ]
  },
  {
   "cell_type": "code",
   "execution_count": null,
   "metadata": {},
   "outputs": [],
   "source": []
  }
 ],
 "metadata": {
  "kernelspec": {
   "display_name": "Environment (conda_sangyeop)",
   "language": "python",
   "name": "conda_sangyeop"
  },
  "language_info": {
   "codemirror_mode": {
    "name": "ipython",
    "version": 3
   },
   "file_extension": ".py",
   "mimetype": "text/x-python",
   "name": "python",
   "nbconvert_exporter": "python",
   "pygments_lexer": "ipython3",
   "version": "3.6.10"
  },
  "toc": {
   "base_numbering": 1,
   "nav_menu": {},
   "number_sections": true,
   "sideBar": true,
   "skip_h1_title": false,
   "title_cell": "Table of Contents",
   "title_sidebar": "Contents",
   "toc_cell": false,
   "toc_position": {},
   "toc_section_display": true,
   "toc_window_display": false
  }
 },
 "nbformat": 4,
 "nbformat_minor": 2
}
