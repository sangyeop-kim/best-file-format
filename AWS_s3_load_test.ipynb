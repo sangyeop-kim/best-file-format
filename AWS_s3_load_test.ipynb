{
 "cells": [
  {
   "cell_type": "code",
   "execution_count": 12,
   "metadata": {},
   "outputs": [],
   "source": [
    "from Analysis_template import AWS_s3\n",
    "from time import time"
   ]
  },
  {
   "cell_type": "code",
   "execution_count": 2,
   "metadata": {},
   "outputs": [
    {
     "name": "stdout",
     "output_type": "stream",
     "text": [
      "접속 성공\n"
     ]
    }
   ],
   "source": [
    "aws = AWS_s3(save_json=True)"
   ]
  },
  {
   "cell_type": "code",
   "execution_count": 14,
   "metadata": {},
   "outputs": [
    {
     "name": "stdout",
     "output_type": "stream",
     "text": [
      "22.463661193847656\n"
     ]
    }
   ],
   "source": [
    "start = time()\n",
    "df = aws.load_data('OPEN/test_gzip.csv')\n",
    "print(time()-start)"
   ]
  },
  {
   "cell_type": "code",
   "execution_count": 20,
   "metadata": {},
   "outputs": [
    {
     "name": "stdout",
     "output_type": "stream",
     "text": [
      "15.333802223205566\n"
     ]
    }
   ],
   "source": [
    "# 15.430697917938232\n",
    "start = time()\n",
    "for i in range(10):\n",
    "    df = aws.load_data('OPEN/test.ftr')\n",
    "print(time()-start)"
   ]
  },
  {
   "cell_type": "code",
   "execution_count": 21,
   "metadata": {},
   "outputs": [
    {
     "name": "stdout",
     "output_type": "stream",
     "text": [
      "11.683591842651367\n"
     ]
    }
   ],
   "source": [
    "# 11.75541639328003\n",
    "start = time()\n",
    "for i in range(10):\n",
    "    df = aws.load_data('OPEN/test_snappy.parquet')\n",
    "print(time()-start)"
   ]
  },
  {
   "cell_type": "code",
   "execution_count": 22,
   "metadata": {},
   "outputs": [
    {
     "name": "stdout",
     "output_type": "stream",
     "text": [
      "10.264814376831055\n"
     ]
    }
   ],
   "source": [
    "# 10.367797374725342\n",
    "start = time()\n",
    "for i in range(10):\n",
    "    df = aws.load_data('OPEN/test_gzip.parquet')\n",
    "print(time()-start)"
   ]
  },
  {
   "cell_type": "code",
   "execution_count": 23,
   "metadata": {},
   "outputs": [
    {
     "name": "stdout",
     "output_type": "stream",
     "text": [
      "7.761213779449463\n"
     ]
    }
   ],
   "source": [
    "# 7.807413578033447\n",
    "start = time()\n",
    "for i in range(10):\n",
    "    df = aws.load_data('OPEN/test_brotli.parquet')\n",
    "print(time()-start)"
   ]
  },
  {
   "cell_type": "code",
   "execution_count": 24,
   "metadata": {},
   "outputs": [
    {
     "name": "stdout",
     "output_type": "stream",
     "text": [
      "15.257712602615356\n"
     ]
    }
   ],
   "source": [
    "# 15.405826330184937\n",
    "start = time()\n",
    "for i in range(10):\n",
    "    df = aws.load_data('OPEN/test.parquet')\n",
    "print(time()-start)"
   ]
  }
 ],
 "metadata": {
  "kernelspec": {
   "display_name": "Environment (conda_sangyeop)",
   "language": "python",
   "name": "conda_sangyeop"
  },
  "language_info": {
   "codemirror_mode": {
    "name": "ipython",
    "version": 3
   },
   "file_extension": ".py",
   "mimetype": "text/x-python",
   "name": "python",
   "nbconvert_exporter": "python",
   "pygments_lexer": "ipython3",
   "version": "3.6.10"
  }
 },
 "nbformat": 4,
 "nbformat_minor": 4
}
